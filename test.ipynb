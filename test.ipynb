{
 "cells": [
  {
   "cell_type": "markdown",
   "id": "4ca48db5",
   "metadata": {},
   "source": [
    "### tic tac toe simple game\n",
    "steps to write the game\n",
    "1. create a 3x3 board\n",
    "2. display the board\n",
    "3. take player input\n",
    "4. check for win conditions\n",
    "5. switch players\n",
    "6. repeat until win or draw"
   ]
  },
  {
   "cell_type": "code",
   "execution_count": 52,
   "id": "419230ae",
   "metadata": {},
   "outputs": [
    {
     "name": "stdout",
     "output_type": "stream",
     "text": [
      "Player 1 (X) should start the game.\n",
      "Player 2 (O) will play second.\n",
      " | | \n",
      "-----\n",
      " | | \n",
      "-----\n",
      " | | \n",
      "-----\n",
      "Player X's turn.\n"
     ]
    },
    {
     "ename": "ValueError",
     "evalue": "not enough values to unpack (expected 2, got 0)",
     "output_type": "error",
     "traceback": [
      "\u001b[31m---------------------------------------------------------------------------\u001b[39m",
      "\u001b[31mValueError\u001b[39m                                Traceback (most recent call last)",
      "\u001b[36mCell\u001b[39m\u001b[36m \u001b[39m\u001b[32mIn[52]\u001b[39m\u001b[32m, line 49\u001b[39m\n\u001b[32m     46\u001b[39m             reset_board()\n\u001b[32m     47\u001b[39m             \u001b[38;5;28;01mbreak\u001b[39;00m\n\u001b[32m---> \u001b[39m\u001b[32m49\u001b[39m \u001b[43mgame\u001b[49m\u001b[43m(\u001b[49m\u001b[43m)\u001b[49m\n",
      "\u001b[36mCell\u001b[39m\u001b[36m \u001b[39m\u001b[32mIn[52]\u001b[39m\u001b[32m, line 35\u001b[39m, in \u001b[36mgame\u001b[39m\u001b[34m()\u001b[39m\n\u001b[32m     33\u001b[39m \u001b[38;5;28;01mfor\u001b[39;00m player \u001b[38;5;129;01min\u001b[39;00m [player_X, player_O]:\n\u001b[32m     34\u001b[39m     \u001b[38;5;28mprint\u001b[39m(\u001b[33mf\u001b[39m\u001b[33m\"\u001b[39m\u001b[33mPlayer \u001b[39m\u001b[38;5;132;01m{\u001b[39;00mplayer\u001b[38;5;132;01m}\u001b[39;00m\u001b[33m'\u001b[39m\u001b[33ms turn.\u001b[39m\u001b[33m\"\u001b[39m)\n\u001b[32m---> \u001b[39m\u001b[32m35\u001b[39m     row, col = \u001b[38;5;28mmap\u001b[39m(\u001b[38;5;28mint\u001b[39m, \u001b[38;5;28minput\u001b[39m(\u001b[33m\"\u001b[39m\u001b[33mEnter row and column separated by a space: \u001b[39m\u001b[33m\"\u001b[39m).split())\n\u001b[32m     36\u001b[39m     board[row][col] = player\n\u001b[32m     37\u001b[39m     \u001b[38;5;28;01mfor\u001b[39;00m row \u001b[38;5;129;01min\u001b[39;00m board:\n",
      "\u001b[31mValueError\u001b[39m: not enough values to unpack (expected 2, got 0)"
     ]
    }
   ],
   "source": [
    "# step 1: creating a 3*3 board:\n",
    "board = [[' ' for _ in range(3)] for _ in range(3)]\n",
    "\n",
    "player_X = 'X'\n",
    "player_O = 'O'\n",
    "\n",
    "print(f\"Player 1 ({player_X}) should start the game.\")\n",
    "print(f\"Player 2 ({player_O}) will play second.\")\n",
    "\n",
    "for row in board:\n",
    "    print(\"|\".join(row))\n",
    "    print(\"-\" * 5)\n",
    "\n",
    "def game_won(player):\n",
    "    # Check rows, columns, and diagonals for a win\n",
    "    for i in range(3):\n",
    "        if all([cell == player for cell in board[i]]):  # Check rows\n",
    "            return True\n",
    "        if all([board[j][i] == player for j in range(3)]):  # Check columns\n",
    "            return True\n",
    "    if all([board[i][i] == player for i in range(3)]):  # Check diagonal\n",
    "        return True\n",
    "    if all([board[i][2 - i] == player for i in range(3)]):  # Check anti-diagonal\n",
    "        return True\n",
    "    return False\n",
    "\n",
    "def reset_board():\n",
    "    global board\n",
    "    board = [[' ' for _ in range(3)] for _ in range(3)]\n",
    "\n",
    "def game():\n",
    "    while True:\n",
    "        for player in [player_X, player_O]:\n",
    "            print(f\"Player {player}'s turn.\")\n",
    "            row, col = map(int, input(\"Enter row and column separated by a space: \").split())\n",
    "            board[row][col] = player\n",
    "            for row in board:\n",
    "                print(\"|\".join(row))\n",
    "                print(\"-\" * 5)\n",
    "        if game_won(player):\n",
    "            print(f\"Player {player} wins!\")\n",
    "            reset_board()\n",
    "            break\n",
    "        elif ' ' not in board[0] and ' ' not in board[1] and ' ' not in board[2]:\n",
    "            print(\"It's a draw!\")\n",
    "            reset_board()\n",
    "            break\n",
    "\n",
    "game()"
   ]
  },
  {
   "cell_type": "code",
   "execution_count": null,
   "id": "245ae097",
   "metadata": {},
   "outputs": [],
   "source": [
    "\n",
    "\n",
    "def game_won(player, board):\n",
    "    # Check rows, columns, and diagonals for a win\n",
    "    for i in range(3):\n",
    "        if all([cell == player for cell in board[i]]):  # Check rows\n",
    "            return True\n",
    "        if all([board[j][i] == player for j in range(3)]):  # Check columns\n",
    "            return True\n",
    "    if all([board[i][i] == player for i in range(3)]):  # Check diagonal\n",
    "        return True\n",
    "    if all([board[i][2 - i] == player for i in range(3)]):  # Check anti-diagonal\n",
    "        return True\n",
    "    return False\n",
    "\n",
    "    \n",
    "\n",
    "def game():\n",
    "    board = [[' ' for _ in range(3)] for _ in range(3)]\n",
    "\n",
    "    player_X = 'X'\n",
    "    player_O = 'O'\n",
    "\n",
    "    print(f\"Player 1 ({player_X}) should start the game.\")\n",
    "    print(f\"Player 2 ({player_O}) will play second.\")\n",
    "\n",
    "    for row in board:\n",
    "        print(\"|\".join(row))\n",
    "        print(\"-\" * 5)\n",
    "    while True:\n",
    "        for player in [player_X, player_O]:\n",
    "            print(f\"Player {player}'s turn.\")\n",
    "            try:\n",
    "                row, col = map(int, input(\"Enter row and column separated by a space: \").split())\n",
    "            except ValueError:\n",
    "                print(\"Invalid input. Please enter two numbers separated by a space.\")\n",
    "                continue\n",
    "            if board[row][col] != ' ':\n",
    "                print(\"Invalid move. Try again.\")\n",
    "                continue\n",
    "            if not (0 <= row < 3 and 0 <= col < 3):\n",
    "                print(\"Invalid move. Try again.\")\n",
    "                continue\n",
    "            board[row][col] = player\n",
    "            for row in board:\n",
    "                print(\"|\".join(row))\n",
    "                print(\"-\" * 5)\n",
    "            if game_won(player, board):\n",
    "                print(f\"Player {player} wins!\")\n",
    "                print(\"Board has been reset.\")\n",
    "                board = [[' ' for _ in range(3)] for _ in range(3)]\n",
    "                break\n",
    "            elif ' ' not in board[0] and ' ' not in board[1] and ' ' not in board[2]:\n",
    "                print(\"It's a draw!\")\n",
    "                print(\"Board has been reset.\")\n",
    "                board = [[' ' for _ in range(3)] for _ in range(3)]\n",
    "                break\n",
    "\n",
    "game()"
   ]
  },
  {
   "cell_type": "code",
   "execution_count": 3,
   "id": "f30c0d37",
   "metadata": {},
   "outputs": [],
   "source": [
    "# class base game\n",
    "class TicTacToe:\n",
    "    def __init__(self):\n",
    "        self.board = [' ' for _ in range(9)]\n",
    "        self.current_player = 'X'\n",
    "\n",
    "    def print_board(self):\n",
    "        for i in range(3):\n",
    "            print('|'.join(self.board[i*3:(i+1)*3]))\n",
    "            if i < 2:\n",
    "                print('-----')\n",
    "\n",
    "    def make_move(self, position):\n",
    "        if self.board[position] == ' ':\n",
    "            self.board[position] = self.current_player\n",
    "            self.current_player = 'O' if self.current_player == 'X' else 'X'\n",
    "        else:\n",
    "            print(\"Invalid move. Try again.\")\n",
    "\n",
    "    def check_winner(self):\n",
    "        winning_combinations = [\n",
    "            (0, 1, 2), (3, 4, 5), (6, 7, 8),  # horizontal\n",
    "            (0, 3, 6), (1, 4, 7), (2, 5, 8),  # vertical\n",
    "            (0, 4, 8), (2, 4, 6)               # diagonal\n",
    "        ]\n",
    "        for a, b, c in winning_combinations:\n",
    "            if self.board[a] == self.board[b] == self.board[c] != ' ':\n",
    "                return self.board[a]\n",
    "        return None\n",
    "\n",
    "    def is_full(self):\n",
    "        return ' ' not in self.board\n",
    "\n",
    "    def reset_game(self):\n",
    "        self.board = [' ' for _ in range(9)]\n",
    "        self.current_player = 'X'\n",
    "\n"
   ]
  },
  {
   "cell_type": "code",
   "execution_count": 4,
   "id": "e10f364f",
   "metadata": {},
   "outputs": [],
   "source": [
    "game = TicTacToe()"
   ]
  },
  {
   "cell_type": "code",
   "execution_count": 5,
   "id": "f5c3317e",
   "metadata": {},
   "outputs": [
    {
     "name": "stdout",
     "output_type": "stream",
     "text": [
      " | | \n",
      "-----\n",
      " | | \n",
      "-----\n",
      " | | \n"
     ]
    }
   ],
   "source": [
    "game.print_board()"
   ]
  },
  {
   "cell_type": "code",
   "execution_count": 54,
   "id": "7157a64a",
   "metadata": {},
   "outputs": [],
   "source": [
    "class TicTacToe2:\n",
    "    def __init__(self):\n",
    "        self.board = [' ']* 10 # 0th index is not used\n",
    "        #self.board = list(map(str, range(10)))\n",
    "        #print(self.board)\n",
    "        self.current_player = 'X'\n",
    "    def show_board(self):\n",
    "    #     for i in range(1, 10):\n",
    "    #         print(f\"{self.board[i]}\", end=\"|\")\n",
    "    #         if i % 3 == 0:\n",
    "    #             print()\n",
    "    #             print(\"-------\")\n",
    "        print()\n",
    "        print (self.board[1] + \"|\" + self.board[2] + \"|\" + self.board[3])\n",
    "        print(\"-----\")\n",
    "        print (self.board[4] + \"|\" + self.board[5] + \"|\" + self.board[6])\n",
    "        print(\"-----\")\n",
    "        print (self.board[7] + \"|\" + self.board[8] + \"|\" + self.board[9])\n",
    "        print()\n",
    "\n"
   ]
  },
  {
   "cell_type": "code",
   "execution_count": 55,
   "id": "c77d88e6",
   "metadata": {},
   "outputs": [],
   "source": [
    "game2 = TicTacToe2()\n"
   ]
  },
  {
   "cell_type": "code",
   "execution_count": 56,
   "id": "3d60532e",
   "metadata": {},
   "outputs": [
    {
     "name": "stdout",
     "output_type": "stream",
     "text": [
      "\n",
      " | | \n",
      "-----\n",
      " | | \n",
      "-----\n",
      " | | \n",
      "\n"
     ]
    }
   ],
   "source": [
    "game2.show_board()"
   ]
  }
 ],
 "metadata": {
  "kernelspec": {
   "display_name": "App-Password-Generator",
   "language": "python",
   "name": "python3"
  },
  "language_info": {
   "codemirror_mode": {
    "name": "ipython",
    "version": 3
   },
   "file_extension": ".py",
   "mimetype": "text/x-python",
   "name": "python",
   "nbconvert_exporter": "python",
   "pygments_lexer": "ipython3",
   "version": "3.13.5"
  }
 },
 "nbformat": 4,
 "nbformat_minor": 5
}
